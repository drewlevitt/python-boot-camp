{
 "cells": [
  {
   "cell_type": "markdown",
   "metadata": {},
   "source": [
    "# First things first\n",
    "\n",
    "Jupyter notebooks consist of a mix of *code cells* and *markdown cells*. Markdown cells (like this one) help document/explain the purpose and contents of the notebook. Code cells (like the cell below this one) let you write and run Python code. To run a code cell, activate the cell (by clicking in or next to it). You will see a thick bar to the left of the active cell. Then click the \"play\" button in the toolbar above, or press Shift-Enter (or Ctrl-Enter if you don't want to auto-advance to the next cell). Lots more helpful info about Jupyter notebooks [here](https://jupyter-notebook.readthedocs.io/en/stable/examples/Notebook/examples_index.html).\n",
    "\n",
    "It is programming tradition to start with a [\"Hello world!\" program](https://en.wikipedia.org/wiki/%22Hello,_World!%22_program). Activate the code cell below and run it!"
   ]
  },
  {
   "cell_type": "code",
   "execution_count": null,
   "metadata": {
    "collapsed": false,
    "jupyter": {
     "outputs_hidden": false
    }
   },
   "outputs": [],
   "source": [
    "print('Hello world!')"
   ]
  },
  {
   "cell_type": "markdown",
   "metadata": {},
   "source": [
    "Congratulations, you've written your first program. \n",
    "\n",
    "This program consists of a single **command**, `print('Hello world!')`. A command tells the computer what to do. The `print` command causes Python to display something "
   ]
  },
  {
   "cell_type": "code",
   "execution_count": null,
   "metadata": {},
   "outputs": [],
   "source": [
    "# These lines are comments. The Python interpreter ignores everything in a line after the # character.\n",
    "# Comments are just notes for humans to read to help understand the code.\n",
    "# Best practice: add a comment for every couple lines of code to explain what's going on and why.\n",
    "# You'd be amazed at how quickly you forget your code's logic"
   ]
  },
  {
   "cell_type": "markdown",
   "metadata": {},
   "source": [
    "# Basic math"
   ]
  },
  {
   "cell_type": "code",
   "execution_count": null,
   "metadata": {
    "collapsed": false,
    "jupyter": {
     "outputs_hidden": false
    }
   },
   "outputs": [],
   "source": [
    "# addition\n",
    "5 + 2"
   ]
  },
  {
   "cell_type": "code",
   "execution_count": null,
   "metadata": {
    "collapsed": false,
    "jupyter": {
     "outputs_hidden": false
    }
   },
   "outputs": [],
   "source": [
    "# subtraction\n",
    "5 - 2"
   ]
  },
  {
   "cell_type": "code",
   "execution_count": null,
   "metadata": {
    "collapsed": false,
    "jupyter": {
     "outputs_hidden": false
    }
   },
   "outputs": [],
   "source": [
    "# multiplication\n",
    "5 * 2"
   ]
  },
  {
   "cell_type": "code",
   "execution_count": null,
   "metadata": {
    "collapsed": false,
    "jupyter": {
     "outputs_hidden": false
    }
   },
   "outputs": [],
   "source": [
    "# division\n",
    "5 / 2\n",
    "\n",
    "# Integer division is also available, using the // operator:\n",
    "# this returns the whole number portion of the result, so 5 // 2 = 2"
   ]
  },
  {
   "cell_type": "code",
   "execution_count": null,
   "metadata": {
    "collapsed": false,
    "jupyter": {
     "outputs_hidden": false
    }
   },
   "outputs": [],
   "source": [
    "# exponentiation: raising 5 to the 2nd power\n",
    "5 ** 2"
   ]
  },
  {
   "cell_type": "code",
   "execution_count": null,
   "metadata": {
    "collapsed": false,
    "jupyter": {
     "outputs_hidden": false
    }
   },
   "outputs": [],
   "source": [
    "# exponentiation part 2: the square root of 5 (5 to the 0.5th power)\n",
    "5 ** 0.5\n",
    "\n",
    "# Note that spaces don't matter here: 5**0.5 == 5 ** 0.5"
   ]
  },
  {
   "cell_type": "code",
   "execution_count": null,
   "metadata": {
    "collapsed": false,
    "jupyter": {
     "outputs_hidden": false
    }
   },
   "outputs": [],
   "source": [
    "# the modulus operator: what is the remainder when you divide 5 by 2?\n",
    "5 % 2 "
   ]
  },
  {
   "cell_type": "code",
   "execution_count": null,
   "metadata": {
    "collapsed": false,
    "jupyter": {
     "outputs_hidden": false
    }
   },
   "outputs": [],
   "source": [
    "# test for equality\n",
    "5 == 2"
   ]
  },
  {
   "cell_type": "markdown",
   "metadata": {},
   "source": [
    "# Variables and print commands"
   ]
  },
  {
   "cell_type": "code",
   "execution_count": null,
   "metadata": {},
   "outputs": [],
   "source": [
    "# variables, such as x here, contain values and their values can vary\n",
    "x = 5"
   ]
  },
  {
   "cell_type": "code",
   "execution_count": null,
   "metadata": {
    "collapsed": false,
    "jupyter": {
     "outputs_hidden": false
    }
   },
   "outputs": [],
   "source": [
    "# what is the value of x?\n",
    "x"
   ]
  },
  {
   "cell_type": "code",
   "execution_count": null,
   "metadata": {
    "collapsed": false,
    "jupyter": {
     "outputs_hidden": false
    }
   },
   "outputs": [],
   "source": [
    "# you can perform operations on variables, just like you can on two numbers\n",
    "x + 3"
   ]
  },
  {
   "cell_type": "code",
   "execution_count": null,
   "metadata": {
    "collapsed": false,
    "jupyter": {
     "outputs_hidden": false
    }
   },
   "outputs": [],
   "source": [
    "# what is the value of x now?\n",
    "x"
   ]
  },
  {
   "cell_type": "code",
   "execution_count": null,
   "metadata": {},
   "outputs": [],
   "source": [
    "# to update the value of a variable, you need to do an assignment again\n",
    "x = x + 3"
   ]
  },
  {
   "cell_type": "code",
   "execution_count": null,
   "metadata": {
    "collapsed": false,
    "jupyter": {
     "outputs_hidden": false
    }
   },
   "outputs": [],
   "source": [
    "# and now what is the value of x?\n",
    "x"
   ]
  },
  {
   "cell_type": "code",
   "execution_count": null,
   "metadata": {
    "collapsed": false,
    "jupyter": {
     "outputs_hidden": false
    }
   },
   "outputs": [],
   "source": [
    "# create a new variable y from an operation on x\n",
    "x = 5\n",
    "y = x * 2\n",
    "y"
   ]
  },
  {
   "cell_type": "code",
   "execution_count": null,
   "metadata": {
    "collapsed": false,
    "jupyter": {
     "outputs_hidden": false
    }
   },
   "outputs": [],
   "source": [
    "# outputting values only displays the last thing output\n",
    "x\n",
    "y"
   ]
  },
  {
   "cell_type": "code",
   "execution_count": null,
   "metadata": {
    "collapsed": false,
    "jupyter": {
     "outputs_hidden": false
    }
   },
   "outputs": [],
   "source": [
    "# use print() to write some value to the console\n",
    "print(x)\n",
    "print(y)"
   ]
  },
  {
   "cell_type": "code",
   "execution_count": null,
   "metadata": {
    "collapsed": false,
    "jupyter": {
     "outputs_hidden": false
    }
   },
   "outputs": [],
   "source": [
    "# you can comma-separate values to print multiple to the console on one line\n",
    "print(x, y)"
   ]
  },
  {
   "cell_type": "code",
   "execution_count": null,
   "metadata": {
    "collapsed": false,
    "jupyter": {
     "outputs_hidden": false
    }
   },
   "outputs": [],
   "source": [
    "# you can also print the result of an expression\n",
    "print (x * y)"
   ]
  },
  {
   "cell_type": "code",
   "execution_count": null,
   "metadata": {
    "collapsed": false,
    "jupyter": {
     "outputs_hidden": false
    }
   },
   "outputs": [],
   "source": [
    "# Naming conventions: you can't have spaces or dashes in variable names\n",
    "# Also, variable names must begin with a letter (but after that, numbers are fine)\n",
    "# Underscores _ and Mixed Case is fine\n",
    "# Variable names (like the rest of Python) are case sensitive\n",
    "# Stylistically, variable names should begin with a lowercase letter\n",
    "# names_with_underscores are one good approach\n",
    "# namesWithCapitals are another\n",
    "\n",
    "my_var = 1\n",
    "my_var2 = 2\n",
    "anotherVar = 3\n",
    "this-aint-a-var = 4"
   ]
  },
  {
   "cell_type": "markdown",
   "metadata": {},
   "source": [
    "# Data types"
   ]
  },
  {
   "cell_type": "code",
   "execution_count": null,
   "metadata": {
    "collapsed": false,
    "jupyter": {
     "outputs_hidden": false
    }
   },
   "outputs": [],
   "source": [
    "# integers are whole numbers\n",
    "type(125)"
   ]
  },
  {
   "cell_type": "code",
   "execution_count": null,
   "metadata": {
    "collapsed": false,
    "jupyter": {
     "outputs_hidden": false
    }
   },
   "outputs": [],
   "source": [
    "# every variable has a data type, and they can be of any type\n",
    "x = 125\n",
    "type(x)"
   ]
  },
  {
   "cell_type": "code",
   "execution_count": null,
   "metadata": {
    "collapsed": false,
    "jupyter": {
     "outputs_hidden": false
    }
   },
   "outputs": [],
   "source": [
    "# float is a floating point (aka decimal) number\n",
    "some_rate = 4.3\n",
    "type(some_rate)"
   ]
  },
  {
   "cell_type": "code",
   "execution_count": null,
   "metadata": {
    "collapsed": false,
    "jupyter": {
     "outputs_hidden": false
    }
   },
   "outputs": [],
   "source": [
    "# strings are strings of characters\n",
    "my_string = 'abc'\n",
    "type(my_string)"
   ]
  },
  {
   "cell_type": "code",
   "execution_count": null,
   "metadata": {
    "collapsed": false,
    "jupyter": {
     "outputs_hidden": false
    }
   },
   "outputs": [],
   "source": [
    "# a list is a collection of elements denoted by square brackets\n",
    "my_list = [1, 2, 3, 4]\n",
    "print(my_list)\n",
    "type(my_list)"
   ]
  },
  {
   "cell_type": "code",
   "execution_count": null,
   "metadata": {
    "collapsed": false,
    "jupyter": {
     "outputs_hidden": false
    }
   },
   "outputs": [],
   "source": [
    "# the elements of a list can be of different types\n",
    "new_list = [1, 'Q', 8, 'four']\n",
    "type(new_list)"
   ]
  },
  {
   "cell_type": "code",
   "execution_count": null,
   "metadata": {
    "collapsed": false,
    "jupyter": {
     "outputs_hidden": false
    }
   },
   "outputs": [],
   "source": [
    "# a dictionary is a collection of key:value pairs, denoted by curly braces\n",
    "person = {'first_name': 'Geoff', 'last_name': 'Boeing'}\n",
    "print(person)\n",
    "type(person)"
   ]
  },
  {
   "cell_type": "code",
   "execution_count": null,
   "metadata": {
    "collapsed": false,
    "jupyter": {
     "outputs_hidden": false
    }
   },
   "outputs": [],
   "source": [
    "# A tuple is also a collection of elements, but you can't change individual elements after creation\n",
    "# You will generally want to use lists instead of tuples. I mention them here only because they\n",
    "# come up later when we build our geocoding script.\n",
    "my_list = [1, 2, 3]\n",
    "my_tuple = (1, 2, 3)\n",
    "\n",
    "my_list[1] = 6\n",
    "print(my_list)\n",
    "my_tuple[1] = 4 # throws an error"
   ]
  },
  {
   "cell_type": "code",
   "execution_count": null,
   "metadata": {
    "collapsed": false,
    "jupyter": {
     "outputs_hidden": false
    }
   },
   "outputs": [],
   "source": [
    "# Some data types support iteration and indexing: \n",
    "# you can get the nth element from an iterable object (like a string) with [n] indexing notation\n",
    "# In Python, the index starts with zero, not one\n",
    "print(my_string[0])\n",
    "print(my_list[1])\n",
    "print(my_tuple[2])"
   ]
  },
  {
   "cell_type": "markdown",
   "metadata": {
    "collapsed": true,
    "jupyter": {
     "outputs_hidden": true
    }
   },
   "source": [
    "# String processing"
   ]
  },
  {
   "cell_type": "code",
   "execution_count": null,
   "metadata": {
    "collapsed": false,
    "jupyter": {
     "outputs_hidden": false
    }
   },
   "outputs": [],
   "source": [
    "# some of the operators we saw earlier work on strings\n",
    "city = 'Berkeley'\n",
    "sep = ', '\n",
    "state = 'California'\n",
    "zip_code = '94703'\n",
    "\n",
    "location = city + sep + state + ' ' + zip_code\n",
    "print(location)"
   ]
  },
  {
   "cell_type": "code",
   "execution_count": null,
   "metadata": {
    "collapsed": false,
    "jupyter": {
     "outputs_hidden": false
    }
   },
   "outputs": [],
   "source": [
    "# multiplying a string just duplicates it\n",
    "zip_code * 3\n",
    "\n",
    "# division, exponentiation, and modulus don't work with strings."
   ]
  },
  {
   "cell_type": "code",
   "execution_count": null,
   "metadata": {
    "collapsed": false,
    "jupyter": {
     "outputs_hidden": false
    }
   },
   "outputs": [],
   "source": [
    "# how many characters are in this string?\n",
    "len(location)"
   ]
  },
  {
   "cell_type": "code",
   "execution_count": null,
   "metadata": {
    "collapsed": false,
    "jupyter": {
     "outputs_hidden": false
    }
   },
   "outputs": [],
   "source": [
    "# get a substring from some position up to but not including a second position\n",
    "location[2:5]"
   ]
  },
  {
   "cell_type": "code",
   "execution_count": null,
   "metadata": {
    "collapsed": false,
    "jupyter": {
     "outputs_hidden": false
    }
   },
   "outputs": [],
   "source": [
    "# get the first n characters from the string\n",
    "location[:5]"
   ]
  },
  {
   "cell_type": "code",
   "execution_count": null,
   "metadata": {
    "collapsed": false,
    "jupyter": {
     "outputs_hidden": false
    }
   },
   "outputs": [],
   "source": [
    "# get the characters from the string after the nth position\n",
    "location[5:]"
   ]
  },
  {
   "cell_type": "code",
   "execution_count": null,
   "metadata": {
    "collapsed": false,
    "jupyter": {
     "outputs_hidden": false
    }
   },
   "outputs": [],
   "source": [
    "# you can replace characters in a string with the replace() method\n",
    "location.replace('e', 'E')\n",
    "\n",
    "# We'll look at methods a lot more later on.\n",
    "# We don't have enough time to really get into it, but Python string formatting\n",
    "# is incredibly flexible and powerful and merits further investigation."
   ]
  },
  {
   "cell_type": "code",
   "execution_count": null,
   "metadata": {},
   "outputs": [],
   "source": [
    "# note that the replace() method does not mutate location itself!\n",
    "# as before, if we wanted to store the modified string, we'd need to assign the result\n",
    "# of location.replace() to location itself.\n",
    "location"
   ]
  },
  {
   "cell_type": "markdown",
   "metadata": {
    "collapsed": true,
    "jupyter": {
     "outputs_hidden": true
    }
   },
   "source": [
    "# Python \"Control Flow\" or \"Programming Flow\" tools\n",
    "## i.e. \"if\" statements, \"for\" loops, and functions\n",
    "\n",
    "Now we're going to learn some simple tools to help you give Python some more complicated directions about how to run different commands."
   ]
  },
  {
   "cell_type": "markdown",
   "metadata": {},
   "source": [
    "### Loops\n",
    "\n",
    "This is how to tell Python to run something over and over. There are different types of loops but we'll focus on \"for\" loops. A simple structure you can use is:\n",
    "\n",
    "1. For every element...\n",
    "2. In a certain \"iterable\" (e.g. list)...\n",
    "3. Do a certain thing\n",
    "4. Repeat until you've gone through every item in the iterable"
   ]
  },
  {
   "cell_type": "code",
   "execution_count": null,
   "metadata": {
    "collapsed": false,
    "jupyter": {
     "outputs_hidden": false
    }
   },
   "outputs": [],
   "source": [
    "# Example: we're going to run through this list below.\n",
    "\n",
    "bart = [\"Berkeley\", \"Ashby\", \"MacArthur\", \"19th Street\", \"12th Street\", \"West Oakland\"]\n",
    "# side note: spaces after commas and single vs double quotes doesn't matter\n",
    "# i.e. ['Berkeley', 'Ashby'] == [\"Berkeley\",\"Ashby\"]"
   ]
  },
  {
   "cell_type": "code",
   "execution_count": null,
   "metadata": {
    "collapsed": false,
    "jupyter": {
     "outputs_hidden": false
    }
   },
   "outputs": [],
   "source": [
    "# Here's the simple structure above in python syntax\n",
    "\n",
    "# Steps 1 and 2\n",
    "# syntax is:  for \"x\" in \"y\"\n",
    "# x is an arbitrary name that will refer to the current iteration\n",
    "# y is the list you're iterating on \n",
    "# statements that are within the loop must be indented! Indentation is key to Python syntax\n",
    "\n",
    "for station in bart:\n",
    "    \n",
    "    # Step 3: what you do for each item in the list\n",
    "    # Here we will just print\n",
    "    print(station)\n",
    "    \n",
    "    # Step 4: this structure will automatically repeat! \n",
    "    \n",
    "print('How many times will this print?')"
   ]
  },
  {
   "cell_type": "markdown",
   "metadata": {},
   "source": [
    "Let's break this down. What happened here is:\n",
    "\n",
    "First iteration: \n",
    "* The variable \"station\" is set to the first item in the list \"bart\", which happens to be a string, \"Berkeley\"\n",
    "* Printing \"station\" therefore gives you an output of \"Berkeley\"\n",
    "\n",
    "Second iteration:\n",
    "* The variable \"station\" now equals the second item in the list, the string \"Ashby\", so printing \"station\" now outputs \"Ashby\"\n",
    "\n",
    "And this continues until you hit West Oakland, at which the loop sees no more items and the loop ends.\n",
    "\n",
    "The last line, which is not indented, is not part of the for loop, so it gets printed only once."
   ]
  },
  {
   "cell_type": "code",
   "execution_count": null,
   "metadata": {
    "collapsed": false,
    "jupyter": {
     "outputs_hidden": false
    }
   },
   "outputs": [],
   "source": [
    "# the variable \"station\" above is arbitrary; you can change it to whatever you want as long as it is consistent within the loop\n",
    "# you'll often see people use \"i\" as convention\n",
    "\n",
    "for i in bart:\n",
    "    print(i)"
   ]
  },
  {
   "cell_type": "code",
   "execution_count": null,
   "metadata": {
    "collapsed": false,
    "jupyter": {
     "outputs_hidden": false
    }
   },
   "outputs": [],
   "source": [
    "# You can set more complicated commands as well.\n",
    "\n",
    "for i in bart:\n",
    "    print(\"Now I am at\", i, \"Station\")"
   ]
  },
  {
   "cell_type": "code",
   "execution_count": null,
   "metadata": {
    "collapsed": false,
    "jupyter": {
     "outputs_hidden": false
    }
   },
   "outputs": [],
   "source": [
    "# You can also set multiple variables to change within loops\n",
    "\n",
    "for i in bart:\n",
    "    before = \"Now I am at \"\n",
    "    after = \" Station\"\n",
    "    print(before + i + after)"
   ]
  },
  {
   "cell_type": "code",
   "execution_count": null,
   "metadata": {
    "collapsed": false,
    "jupyter": {
     "outputs_hidden": false
    }
   },
   "outputs": [],
   "source": [
    "# Notice the difference between using , and + in the two cells above\n",
    "# , puts spaces between each piece (or \"argument\"), and can display many different data types side by side\n",
    "# + *concatenates* strings, as we've seen before. This means that (1) there will be no extra space and\n",
    "# (2) all the components of the concatenation must be strings.\n",
    "# It is possible to convert one data type to another using str(), float(), int()\n",
    "\n",
    "print('I am at station #', 2, 'now')\n",
    "print() # blank line\n",
    "print('I am at station #' + str(2) + 'now')\n",
    "print('I am at station #', 2, ' now', sep='') # we can define sep (separator) as an empty string to remove the spaces\n",
    "print('I am at station #' + 2 + 'now') # throws an error"
   ]
  },
  {
   "cell_type": "code",
   "execution_count": null,
   "metadata": {},
   "outputs": [],
   "source": [
    "# Finally, just a taste of Python string formatting\n",
    "# This is called an f-string (f for \"format\") and it's SO powerful\n",
    "station_number = 2\n",
    "print(f'I am at station #{station_number} now, and the sky is {0.927:.0%} clear')"
   ]
  },
  {
   "cell_type": "markdown",
   "metadata": {},
   "source": [
    "### if statements\n",
    "\n",
    "You can also have Python run commands based on conditions: do x if y. "
   ]
  },
  {
   "cell_type": "code",
   "execution_count": null,
   "metadata": {
    "collapsed": false,
    "jupyter": {
     "outputs_hidden": false
    }
   },
   "outputs": [],
   "source": [
    "# Simple structure:\n",
    "\n",
    "warriors_wins = 70\n",
    "bulls_record = 72\n",
    "\n",
    "if warriors_wins < bulls_record:\n",
    "    print(\"Warriors did not break the record :(\")"
   ]
  },
  {
   "cell_type": "code",
   "execution_count": null,
   "metadata": {
    "collapsed": false,
    "jupyter": {
     "outputs_hidden": false
    }
   },
   "outputs": [],
   "source": [
    "# What happens if the condition is not met here?\n",
    "\n",
    "warriors_wins = 73\n",
    "\n",
    "if warriors_wins < bulls_record:\n",
    "    print(\"Warriors did not break the record :(\")"
   ]
  },
  {
   "cell_type": "code",
   "execution_count": null,
   "metadata": {
    "collapsed": false,
    "jupyter": {
     "outputs_hidden": false
    }
   },
   "outputs": [],
   "source": [
    "# if can set \"else\" statements for when the condition is not met\n",
    "\n",
    "if warriors_wins < bulls_record:\n",
    "    print(\"Warriors did not break the record :(\")\n",
    "else:\n",
    "    print(\"Warriors tied or broke the record!\")"
   ]
  },
  {
   "cell_type": "code",
   "execution_count": null,
   "metadata": {
    "collapsed": false,
    "jupyter": {
     "outputs_hidden": false
    }
   },
   "outputs": [],
   "source": [
    "# you can set more than 2 conditions using \"elif\" which is short for \"else if\"\n",
    "\n",
    "warriors_wins = 73\n",
    "\n",
    "if warriors_wins < bulls_record:\n",
    "    print(\"Warriors did not break the record :(\")\n",
    "elif warriors_wins == bulls_record:\n",
    "    print(\"Warriors tied the record.\")\n",
    "else:\n",
    "    print(\"Warriors broke the record!\")"
   ]
  },
  {
   "cell_type": "markdown",
   "metadata": {},
   "source": [
    "### Functions\n",
    "\n",
    "So you've written a useful piece of code, and you're using it multiple times but finding it tedious to keep copying and pasting it. This is where **functions** come in. A function is basically a chunk of code that is saved under a name, and takes one or more inputs that are used in the chunk of code. Here's an example."
   ]
  },
  {
   "cell_type": "code",
   "execution_count": null,
   "metadata": {},
   "outputs": [],
   "source": [
    "# Create a function to save the warriors code above\n",
    "\n",
    "# \"def\" creates a function\n",
    "# next is the function name: I call mine \"record check\"\n",
    "# in parentheses are the \"arguments\" - what will the function take in and use?\n",
    "# I have one argument, which will be a number of wins.\n",
    "\n",
    "def record_check(number_wins):\n",
    "    \n",
    "    bulls_record = 72\n",
    "    \n",
    "    # here I copy my code from above, but I changed \"warriors_wins\" to \"number_wins\"\n",
    "    # We are also now using \"return\" instead of print()\n",
    "    # Functions can *return* one or more values, which you can then use however you want\n",
    "    if number_wins < bulls_record:\n",
    "        return \"Warriors did not break the record :(\"\n",
    "    elif number_wins == bulls_record:\n",
    "        return \"Warriors tied the record.\"\n",
    "    else:\n",
    "        return \"Warriors broke the record!\"\n",
    "# when I run this cell, the code above will be saved or \"defined\" as the function \"record_check\"\n",
    "# No output is printed though"
   ]
  },
  {
   "cell_type": "code",
   "execution_count": null,
   "metadata": {
    "collapsed": false,
    "jupyter": {
     "outputs_hidden": false
    }
   },
   "outputs": [],
   "source": [
    "# now we can run the function with various numbers \n",
    "\n",
    "print(record_check(70))\n",
    "print(record_check(72))\n",
    "\n",
    "# We don't use the print() command here so you can see the difference between print()ing a string and \n",
    "# displaying it as output\n",
    "record_check(74)"
   ]
  },
  {
   "cell_type": "code",
   "execution_count": null,
   "metadata": {
    "collapsed": false,
    "jupyter": {
     "outputs_hidden": false
    }
   },
   "outputs": [],
   "source": [
    "# run the function in a loop\n",
    "\n",
    "win_list = [i for i in range(69, 76)]\n",
    "# This is called a *list comprehension*. Super powerful. We don't have time to get into it,\n",
    "# but definitely look up Python comprehensions when you get a chance.\n",
    "\n",
    "print(win_list)\n",
    "# Note that range(69, 76) includes 69 but not 76!\n",
    "# Think: \"start at 69 and end right before 76\"\n",
    "\n",
    "for i in win_list: # can also say simply \"for i in range(69, 76):\"\n",
    "    print('With', i, 'wins, the', record_check(i))\n",
    "    \n",
    "# Consider how making our function return, rather than print, its strings enables us to\n",
    "# combine those strings in a novel fashion within the for loop."
   ]
  },
  {
   "cell_type": "markdown",
   "metadata": {},
   "source": [
    "## Micro-Project\n",
    "\n",
    "This should take five minutes or so:\n",
    "\n",
    "* Create a function\n",
    "  * It should check whether the number it takes as an argument equals 30\n",
    "  * If it does not equal 30, it should print \"This is not Steph Curry's number\"\n",
    "  * If it does equal 30, it should print \"This is Steph Curry's number\"\n",
    "* Create a list of the numbers 23, 11, 30, 12, and 40\n",
    "* Create a for loop with this list. Each iteration should run your new function using a number in this new list.\n"
   ]
  },
  {
   "cell_type": "code",
   "execution_count": null,
   "metadata": {
    "collapsed": false,
    "jupyter": {
     "outputs_hidden": false
    }
   },
   "outputs": [],
   "source": [
    "# Write your function here (change names as desired!):\n",
    "\n",
    "def function_name(argument):\n",
    "    # content of function here\n",
    "    \n",
    "    \n",
    "# Create your list here:\n",
    "\n",
    "\n",
    "# Write your loop here:\n"
   ]
  },
  {
   "cell_type": "markdown",
   "metadata": {},
   "source": [
    "# Let's build a geocoder!\n",
    "\n",
    "Now that we've covered the basics of programming in Python, we're going to jump into a more complex, real-world example. Step by step, we will assemble a program that will:\n",
    "1. read in a list of addresses from a CSV file,\n",
    "2. clean up the data formatting,\n",
    "3. geocode the addresses, and\n",
    "4. export the geocoded data to a new CSV.\n",
    "\n",
    "A script like this, which improves on ArcGIS's temperamental geocoding operations, is exactly the kind of tool that a planner might create as part of a typical workflow. In other words, we've reached the realm of the actually useful.\n",
    "\n",
    "## Installing a new package\n",
    "\n",
    "We'll use `geopy` to help us geocode our addresses. You may need to install this package - you'll know if this is the case, because the following cell will throw a `ModuleNotFoundError`. In another Anaconda Prompt/Terminal, activate your environment and type `conda install conda-forge::geopy`. (Yes, another conda-forge package; we discussed this briefly in the \"getting started\" guide.) Then restart this notebook's kernel and proceed with the cells below."
   ]
  },
  {
   "cell_type": "code",
   "execution_count": null,
   "metadata": {
    "collapsed": false,
    "jupyter": {
     "outputs_hidden": false
    }
   },
   "outputs": [],
   "source": [
    "# We import the packages we need for this task. If you followed the instructions \n",
    "# on installing Python and making sure everything is set up correctly, these commands\n",
    "# should look familiar. If not, the syntax is simple:\n",
    "\n",
    "import pandas as pd\n",
    "from geopy.geocoders import GoogleV3"
   ]
  },
  {
   "cell_type": "code",
   "execution_count": null,
   "metadata": {
    "collapsed": false,
    "jupyter": {
     "outputs_hidden": false
    }
   },
   "outputs": [],
   "source": [
    "# For our geocoding demo, we'll use a table of Oakland libraries I found\n",
    "# through Code for Oakland: http://codeforoakland.org/data-sets/\n",
    "\n",
    "# Reading a CSV into a pandas DataFrame is easy:\n",
    "libraries = pd.read_csv('LibraryBranches.csv')\n",
    "\n",
    "# Let's look at the table\n",
    "libraries"
   ]
  },
  {
   "cell_type": "code",
   "execution_count": null,
   "metadata": {
    "collapsed": false,
    "jupyter": {
     "outputs_hidden": false
    }
   },
   "outputs": [],
   "source": [
    "# When you have a large DataFrame, it can be more convenient to see only the first few rows:\n",
    "libraries.head() # defaults to 5 rows, but you can specify the number of rows"
   ]
  },
  {
   "cell_type": "code",
   "execution_count": null,
   "metadata": {
    "collapsed": false,
    "jupyter": {
     "outputs_hidden": false
    }
   },
   "outputs": [],
   "source": [
    "# Unlike Excel, you can't directly look at and modify cells in a table.\n",
    "# Instead, you access data by specifying its *location.* There are two basic forms\n",
    "# of location syntax, .loc[] and .iloc[] - note the square brackets, not parentheses.\n",
    "\n",
    "# .loc[x, y]: look up the data at the location with row index named x and column named y\n",
    "print(libraries.loc[0, 'PHONE'])\n",
    "\n",
    "# .iloc[m, n]: look up the data in the mth row and nth column (first column == 0)\n",
    "print(libraries.iloc[2, 2])"
   ]
  },
  {
   "cell_type": "markdown",
   "metadata": {},
   "source": [
    "## Important concept: _objects_\n",
    "\n",
    "It is common in Python and other programming languages to store data in flexible relational structures known as **objects**. Objects have **attributes**: for example, a `Person` object might have `height` and `age` numeric attributes, plus a `name` string attribute.\n",
    "\n",
    "If an object has a function as an attribute, that function is called a **method** of the object. So our `Person` object can have a `get_older()` method that increases the Person's `height` attribute. (Note that like other, stand-alone functions, this method includes a set of parentheses.) In the cell above, `head()` is a method of the `libraries` object.\n",
    "\n",
    "An object's methods and other attributes are accessed via **dot notation**: if `drew` is a `Person` object, `drew.height` will return `drew`'s `height` attribute. `drew.get_older()` will increase `drew`'s `age`.\n",
    "\n",
    "We're not going to look at how to define our own objects (known also as *classes*) today, but it's a good skill to pick up, and tutorials are out there. https://jeffknupp.com/blog/2014/06/18/improve-your-python-python-classes-and-object-oriented-programming/\n",
    "\n",
    "Right now, we're about to interact with three useful objects that are already defined in the modules we've loaded: `DataFrame`, from `pandas`, and `Geocoder` and `Location` from `geopy.geocoders`. Let's see how we can combine some `DataFrame` attributes and methods to quickly modify our `libraries` object."
   ]
  },
  {
   "cell_type": "code",
   "execution_count": null,
   "metadata": {
    "collapsed": false,
    "jupyter": {
     "outputs_hidden": false
    }
   },
   "outputs": [],
   "source": [
    "# These ALL-CAPS column names are irritating. Let's change them to lowercase:\n",
    "\n",
    "libraries.columns = libraries.columns.str.lower()\n",
    "libraries.head()\n",
    "\n",
    "# What happened here?\n",
    "# libraries.columns is an attribute of libraries (a pandas DataFrame object).\n",
    "# The columns object is itself an Index object, containing the names of each column.\n",
    "# libraries.columns.str allows us to access and modify each string in libraries.columns -\n",
    "# in this case, we use the lower() method to convert each string to lowercase.\n",
    "# So we are telling Python to overwrite libraries.columns (the set of column names)\n",
    "# with a version of libraries.columns converted to lowercase."
   ]
  },
  {
   "cell_type": "code",
   "execution_count": null,
   "metadata": {
    "collapsed": false,
    "jupyter": {
     "outputs_hidden": false
    }
   },
   "outputs": [],
   "source": [
    "# Let's look at just one column\n",
    "\n",
    "libraries['name']\n",
    "\n",
    "# libraries.name (dot notation) is equivalent to libraries['name'] (bracket notation).\n",
    "# However, when you want to create a new column, you must use bracket notation."
   ]
  },
  {
   "cell_type": "code",
   "execution_count": null,
   "metadata": {
    "collapsed": false,
    "jupyter": {
     "outputs_hidden": false
    }
   },
   "outputs": [],
   "source": [
    "# We need to clean up our data in preparation for geocoding.\n",
    "# There are some extra dashes in the address field, and the city and state aren't specified.\n",
    "# Pandas provides some powerful methods for quickly modifying many pieces of data:\n",
    "\n",
    "libraries['full_address'] = libraries.address.str.replace('- ', '') + ', Oakland, CA'\n",
    "libraries.head()\n",
    "\n",
    "# What happened here?\n",
    "# We looked at libraries.address (one column), used str to access that column's\n",
    "# contents as strings, then used the replace() string method to remove dashes.\n",
    "# Then we used the + operator to concatenate city and state to each address.\n",
    "# Finally, we used bracket notation to create a new full_address column to store\n",
    "# the results of this operation."
   ]
  },
  {
   "cell_type": "code",
   "execution_count": null,
   "metadata": {
    "collapsed": false,
    "jupyter": {
     "outputs_hidden": false
    }
   },
   "outputs": [],
   "source": [
    "# Now that we've properly formatted our addresses, it's time to set up the Geocoder.\n",
    "\n",
    "api_key = 'paste_your_api_key_here' # Ask Carolina for a sample Google Maps API key\n",
    "# or get your own here: https://developers.google.com/maps/documentation/geocoding/get-api-key\n",
    "g = GoogleV3(api_key=api_key)\n",
    "\n",
    "# g is a GoogleV3 Geocoder object. This object has multiple methods, or built-in functions. \n",
    "# We'll be using the geocode() method, which takes a street address and returns a lat/long pair\n",
    "# stored as a Location object. (Objects are just organized groups of data.)\n",
    "# There is also a reverse() method that takes a lat/long pair and returns a street address.\n",
    "# More info: https://geopy.readthedocs.org/en/1.11.0/#geopy.geocoders.GoogleV3\n",
    "# and https://developers.google.com/maps/documentation/geocoding/intro\n",
    "# The Google Maps Geocoding API has a limit of 2500 addresses per 24-hour period."
   ]
  },
  {
   "cell_type": "code",
   "execution_count": null,
   "metadata": {
    "collapsed": false,
    "jupyter": {
     "outputs_hidden": false
    }
   },
   "outputs": [],
   "source": [
    "# Let's see the Geocoder in action. \n",
    "home = g.geocode('1001 Channin Brkley')\n",
    "home\n",
    "\n",
    "# Notice that the Google Maps Geocoding API is quite flexible - it was able\n",
    "# to identify Channing Way from \"Channin\" and Berkeley, CA from \"Brkley\"!"
   ]
  },
  {
   "cell_type": "code",
   "execution_count": null,
   "metadata": {
    "collapsed": false,
    "jupyter": {
     "outputs_hidden": false
    }
   },
   "outputs": [],
   "source": [
    "# So, when we pass an address string to the Geocoder's geocode() method, the Geocoder\n",
    "# looks up that address via the Google Maps Geocoding API and returns the result as a Location object.\n",
    "# Now we work our way through the various components of this Location object.\n",
    "print(home[0]) # matched address - a string\n",
    "print(home[1]) # lat/long pair - a tuple\n",
    "print(home[1][0]) # latitude - a float\n",
    "print(home[1][1]) # longitude - a float"
   ]
  },
  {
   "cell_type": "code",
   "execution_count": null,
   "metadata": {},
   "outputs": [],
   "source": [
    "# OK! So we know how to get what we need out of the Location object that the Geocoder returns.\n",
    "# We're now going to use a powerful feature of pandas - \"apply,\" which applies a function to each\n",
    "# item in a Series. \n",
    "\n",
    "# First, we need to define a function that takes an address string as a parameter,\n",
    "# passes it to our Geocoder object, and returns the lat/long pair.\n",
    "\n",
    "def getLatLong(address):\n",
    "    result = g.geocode(address)\n",
    "    return result[1]"
   ]
  },
  {
   "cell_type": "code",
   "execution_count": null,
   "metadata": {
    "collapsed": false,
    "jupyter": {
     "outputs_hidden": false
    }
   },
   "outputs": [],
   "source": [
    "# Now we can *apply* the function we defined to each address in the full_address column.\n",
    "# As before, we use bracket notation to store the results of the apply operation into\n",
    "# a new latlong column.\n",
    "\n",
    "libraries['latlong'] = libraries.full_address.apply(getLatLong)\n",
    "libraries.head()"
   ]
  },
  {
   "cell_type": "code",
   "execution_count": null,
   "metadata": {},
   "outputs": [],
   "source": [
    "libraries.latlong[0]"
   ]
  },
  {
   "cell_type": "code",
   "execution_count": null,
   "metadata": {},
   "outputs": [],
   "source": [
    "# It is a good idea to keep the lat/long pair itself. This is a common format\n",
    "# that is used in web mapping (e.g. Leaflet). However, for some applications\n",
    "# (e.g. ArcGIS, CartoDB), we will need separate latitude and longitude fields.\n",
    "# Let's create those now, using a for loop.\n",
    "\n",
    "for index, row in libraries.iterrows():\n",
    "    libraries.loc[index, 'latitude'] = row['latlong'][0]\n",
    "    libraries.loc[index, 'longitude'] = row['latlong'][1]\n",
    "\n",
    "libraries.head()\n",
    "\n",
    "# What happened here?\n",
    "# libraries.iterrows(), a method of libraries, lets us iterate over each row in the\n",
    "# libraries DataFrame. For each row, we store the zeroth element of 'latlong' as\n",
    "# that row's 'latitude' and the 1th element of 'latlong' as that row's 'longitude'.\n",
    "# Pandas creates new 'latitude' and 'longitude' columns if they don't already exist,\n",
    "# or else overwrites data stored in these columns if they do already exist.\n",
    "# Note, as before, how we use indentation to indicate which statements are part of the for loop."
   ]
  },
  {
   "cell_type": "code",
   "execution_count": null,
   "metadata": {
    "collapsed": false,
    "jupyter": {
     "outputs_hidden": false
    }
   },
   "outputs": [],
   "source": [
    "# Almost there now. Before we export our data to a CSV file, let's remove\n",
    "# some columns we don't need.\n",
    "\n",
    "libraries.drop(['objectid', 'address'], inplace=True, axis=1)\n",
    "libraries.head()\n",
    "\n",
    "# What happened here?\n",
    "# The drop() method removes data from a DataFrame. Its first argument is a list\n",
    "# of entries to remove. The 'inplace' keyword specifies that the drop operation\n",
    "# should modify libraries directly. (By default, inplace = False - you can always\n",
    "# instead use libraries_new = libraries.drop(xyz) to save the modified\n",
    "# DataFrame to libraries_new.) Axis is either 0 for rows or 1 for columns.\n",
    "# In this case, we set it = 1 to drop columns, not rows."
   ]
  },
  {
   "cell_type": "code",
   "execution_count": null,
   "metadata": {},
   "outputs": [],
   "source": [
    "# Time to save our data to disk. pandas DataFrames have a very convenient\n",
    "# to_csv() method. The index=False argument tells pandas not to write the index\n",
    "# as its own column, again eliminating unnecessary data.\n",
    "\n",
    "libraries.to_csv('LibraryBranchesGeocoded.csv', index=False)"
   ]
  },
  {
   "cell_type": "code",
   "execution_count": null,
   "metadata": {
    "collapsed": false,
    "jupyter": {
     "outputs_hidden": false
    }
   },
   "outputs": [],
   "source": [
    "# Finally, let's collect all the pieces of the puzzle into a single cell.\n",
    "# I have added some try/except syntax to handle situations in which an address string\n",
    "# is totally invalid. Google will try hard to match each address, but if it can't, \n",
    "# the Geocoder will return None instead of a Location object.\n",
    "# I also added three print() statements to inform the user about what the program\n",
    "# has done. See if you can figure out how each statement uses attributes and methods!\n",
    "\n",
    "# import the needed packages\n",
    "import pandas as pd\n",
    "from geopy.geocoders import GoogleV3\n",
    "\n",
    "# read the CSV into a pandas DataFrame\n",
    "libraries = pd.read_csv('LibraryBranches.csv')\n",
    "print('Read', len(libraries), 'records')\n",
    "\n",
    "# clean up the column names and address field\n",
    "libraries.columns = libraries.columns.str.lower()\n",
    "libraries['full_address'] = libraries.address.str.replace('- ', '') + ', Oakland, CA'\n",
    "\n",
    "# in case you want to see how the program handles junk data, uncomment the next line\n",
    "# libraries.loc[0, 'full_address'] = 'dkjfbga;knga;sd'\n",
    "\n",
    "# create a geopy Geocoder\n",
    "api_key = 'paste_your_API_key_here_again'\n",
    "g = GoogleV3(api_key=api_key)\n",
    "\n",
    "# define helper function\n",
    "def getLatLong(address):\n",
    "    result = g.geocode(address)\n",
    "    try:\n",
    "        return result[1]\n",
    "    except Exception:\n",
    "        return None\n",
    "\n",
    "# geocode the addresses\n",
    "libraries['latlong'] = libraries.full_address.apply(getLatLong)\n",
    "print('Geocoded', sum(libraries.latlong.notnull()), 'addresses')\n",
    "\n",
    "# extract latitude and longitude\n",
    "for index, row in libraries.iterrows():\n",
    "    try:\n",
    "        libraries.loc[index, 'latitude'] = row['latlong'][0]\n",
    "        libraries.loc[index, 'longitude'] = row['latlong'][1]\n",
    "    except Exception:\n",
    "        pass\n",
    "\n",
    "# drop unnecessary columns\n",
    "libraries.drop(['objectid', 'address'], inplace=True, axis=1)\n",
    "\n",
    "# export the DataFrame to a new CSV file\n",
    "libraries.to_csv('LibraryBranchesGeocoded.csv', index=False)\n",
    "print('Exported', len(libraries), 'records')\n",
    "\n",
    "# Not bad for 25 lines of code."
   ]
  }
 ],
 "metadata": {
  "kernelspec": {
   "display_name": "Python 3 (ipykernel)",
   "language": "python",
   "name": "python3"
  },
  "language_info": {
   "codemirror_mode": {
    "name": "ipython",
    "version": 3
   },
   "file_extension": ".py",
   "mimetype": "text/x-python",
   "name": "python",
   "nbconvert_exporter": "python",
   "pygments_lexer": "ipython3",
   "version": "3.12.4"
  }
 },
 "nbformat": 4,
 "nbformat_minor": 4
}

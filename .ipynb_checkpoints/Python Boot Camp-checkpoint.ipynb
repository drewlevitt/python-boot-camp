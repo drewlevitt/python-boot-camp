{
 "cells": [
  {
   "cell_type": "markdown",
   "metadata": {},
   "source": [
    "# First things first\n",
    "\n",
    "It is programming tradition to start with a \"Hello world!\" program."
   ]
  },
  {
   "cell_type": "code",
   "execution_count": null,
   "metadata": {
    "collapsed": false
   },
   "outputs": [],
   "source": [
    "print('Hello world!')"
   ]
  },
  {
   "cell_type": "code",
   "execution_count": null,
   "metadata": {
    "collapsed": true
   },
   "outputs": [],
   "source": [
    "# These lines are comments. The Python interpreter ignores them.\n",
    "# Comments are just notes for humans to read to help understand the code.\n",
    "# Best practice: add a comment for every couple lines of code to explain what's going on and why.\n",
    "# You'd be amazed at how quickly you forget your code's logic"
   ]
  },
  {
   "cell_type": "markdown",
   "metadata": {},
   "source": [
    "# Basic math"
   ]
  },
  {
   "cell_type": "code",
   "execution_count": null,
   "metadata": {
    "collapsed": false
   },
   "outputs": [],
   "source": [
    "# addition\n",
    "5 + 2"
   ]
  },
  {
   "cell_type": "code",
   "execution_count": null,
   "metadata": {
    "collapsed": false
   },
   "outputs": [],
   "source": [
    "# subtraction\n",
    "5 - 2"
   ]
  },
  {
   "cell_type": "code",
   "execution_count": null,
   "metadata": {
    "collapsed": false
   },
   "outputs": [],
   "source": [
    "# multiplication\n",
    "5 * 2"
   ]
  },
  {
   "cell_type": "code",
   "execution_count": null,
   "metadata": {
    "collapsed": false
   },
   "outputs": [],
   "source": [
    "# division\n",
    "5 / 2\n",
    "\n",
    "# Note that this is one of the major difference between Python 2 and 3!\n",
    "# In Python 3, this performs as we'd expect, and returns 2.5.\n",
    "# But in Python 2, the / operator performs integer division and only returns \n",
    "# the whole number portion of the result when you divide two integers.\n",
    "# (In Python 3, integer division uses the // operator.)"
   ]
  },
  {
   "cell_type": "code",
   "execution_count": null,
   "metadata": {
    "collapsed": false
   },
   "outputs": [],
   "source": [
    "# exponentiation: raising 5 to the 2nd power\n",
    "5 ** 2"
   ]
  },
  {
   "cell_type": "code",
   "execution_count": null,
   "metadata": {
    "collapsed": false
   },
   "outputs": [],
   "source": [
    "# exponentiation part 2: the square root of 5 (5 to the 0.5th power)\n",
    "5 ** 0.5\n",
    "\n",
    "# Note that spaces don't matter here: 5**0.5 == 5 ** 0.5"
   ]
  },
  {
   "cell_type": "code",
   "execution_count": null,
   "metadata": {
    "collapsed": false
   },
   "outputs": [],
   "source": [
    "# the modulus operator: what is the remainder when you divide 5 by 2?\n",
    "5 % 2 "
   ]
  },
  {
   "cell_type": "code",
   "execution_count": null,
   "metadata": {
    "collapsed": false
   },
   "outputs": [],
   "source": [
    "# test for equality\n",
    "5 == 2"
   ]
  },
  {
   "cell_type": "markdown",
   "metadata": {},
   "source": [
    "# Variables and print commands"
   ]
  },
  {
   "cell_type": "code",
   "execution_count": null,
   "metadata": {
    "collapsed": true
   },
   "outputs": [],
   "source": [
    "# variables, such as x here, contain values and their values can vary\n",
    "x = 5"
   ]
  },
  {
   "cell_type": "code",
   "execution_count": null,
   "metadata": {
    "collapsed": false
   },
   "outputs": [],
   "source": [
    "# what is the value of x?\n",
    "x"
   ]
  },
  {
   "cell_type": "code",
   "execution_count": null,
   "metadata": {
    "collapsed": false
   },
   "outputs": [],
   "source": [
    "# you can perform operations on variables, just like you can on two numbers\n",
    "x + 3"
   ]
  },
  {
   "cell_type": "code",
   "execution_count": null,
   "metadata": {
    "collapsed": false
   },
   "outputs": [],
   "source": [
    "# what is the value of x now?\n",
    "x"
   ]
  },
  {
   "cell_type": "code",
   "execution_count": null,
   "metadata": {
    "collapsed": true
   },
   "outputs": [],
   "source": [
    "# to update the value of a variable, you need to do an assignment again\n",
    "x = x + 3"
   ]
  },
  {
   "cell_type": "code",
   "execution_count": null,
   "metadata": {
    "collapsed": false
   },
   "outputs": [],
   "source": [
    "# and now what is the value of x?\n",
    "x"
   ]
  },
  {
   "cell_type": "code",
   "execution_count": null,
   "metadata": {
    "collapsed": false
   },
   "outputs": [],
   "source": [
    "# create a new variable y from an operation on x\n",
    "x = 5\n",
    "y = x * 2\n",
    "y"
   ]
  },
  {
   "cell_type": "code",
   "execution_count": null,
   "metadata": {
    "collapsed": false
   },
   "outputs": [],
   "source": [
    "# outputting values only displays the last thing output\n",
    "x\n",
    "y"
   ]
  },
  {
   "cell_type": "code",
   "execution_count": null,
   "metadata": {
    "collapsed": false
   },
   "outputs": [],
   "source": [
    "# use print() to write some value to the console\n",
    "print(x)\n",
    "print(y)"
   ]
  },
  {
   "cell_type": "code",
   "execution_count": null,
   "metadata": {
    "collapsed": false
   },
   "outputs": [],
   "source": [
    "# you can comma-separate values to print multiple to the console on one line\n",
    "print(x, y)"
   ]
  },
  {
   "cell_type": "code",
   "execution_count": null,
   "metadata": {
    "collapsed": false
   },
   "outputs": [],
   "source": [
    "# you can also print the result of an expression\n",
    "print (x * y)"
   ]
  },
  {
   "cell_type": "code",
   "execution_count": null,
   "metadata": {
    "collapsed": false
   },
   "outputs": [],
   "source": [
    "# Naming conventions: you can't have spaces or dashes in variable names\n",
    "# Also, variable names must begin with a letter (but after that, numbers are fine)\n",
    "# Underscores _ and Mixed Case is fine\n",
    "# Variable names (like the rest of Python) are case sensitive\n",
    "# Stylistically, variable names should begin with a lowercase letter\n",
    "# names_with_underscores are one good approach\n",
    "# namesWithCapitals are another\n",
    "\n",
    "my_var = 1\n",
    "my_var2 = 2\n",
    "anotherVar = 3\n",
    "this-aint-a-var = 4"
   ]
  },
  {
   "cell_type": "markdown",
   "metadata": {},
   "source": [
    "# Data types"
   ]
  },
  {
   "cell_type": "code",
   "execution_count": null,
   "metadata": {
    "collapsed": false
   },
   "outputs": [],
   "source": [
    "# integers are whole numbers\n",
    "type(125)"
   ]
  },
  {
   "cell_type": "code",
   "execution_count": null,
   "metadata": {
    "collapsed": false
   },
   "outputs": [],
   "source": [
    "# every variable has a data type, and they can be of any type\n",
    "x = 125\n",
    "type(x)"
   ]
  },
  {
   "cell_type": "code",
   "execution_count": null,
   "metadata": {
    "collapsed": false
   },
   "outputs": [],
   "source": [
    "# float is a floating point (aka decimal) number\n",
    "some_rate = 4.3\n",
    "type(some_rate)"
   ]
  },
  {
   "cell_type": "code",
   "execution_count": null,
   "metadata": {
    "collapsed": false
   },
   "outputs": [],
   "source": [
    "# strings are strings of characters\n",
    "my_string = 'abc'\n",
    "type(my_string)"
   ]
  },
  {
   "cell_type": "code",
   "execution_count": null,
   "metadata": {
    "collapsed": false
   },
   "outputs": [],
   "source": [
    "# a list is a collection of elements denoted by square brackets\n",
    "my_list = [1, 2, 3, 4]\n",
    "print(my_list)\n",
    "type(my_list)"
   ]
  },
  {
   "cell_type": "code",
   "execution_count": null,
   "metadata": {
    "collapsed": false
   },
   "outputs": [],
   "source": [
    "# the elements of a list can be of different types\n",
    "new_list = [1, 'Q', 8, 'four']\n",
    "type(new_list)"
   ]
  },
  {
   "cell_type": "code",
   "execution_count": null,
   "metadata": {
    "collapsed": false
   },
   "outputs": [],
   "source": [
    "# a dictionary is a collection of key:value pairs, denoted by curly braces\n",
    "person = {'first_name':'Geoff', 'last_name':'Boeing'}\n",
    "print(person)\n",
    "type(person)"
   ]
  },
  {
   "cell_type": "code",
   "execution_count": null,
   "metadata": {
    "collapsed": false
   },
   "outputs": [],
   "source": [
    "# Some data types support iteration: \n",
    "# you can get the nth element from an iterable object (like a string) with [n] indexing notation\n",
    "# In Python, the index starts with zero, not one\n",
    "print(my_string[0])\n",
    "print(my_list[0])\n"
   ]
  },
  {
   "cell_type": "code",
   "execution_count": null,
   "metadata": {
    "collapsed": true
   },
   "outputs": [],
   "source": []
  },
  {
   "cell_type": "code",
   "execution_count": null,
   "metadata": {
    "collapsed": false
   },
   "outputs": [],
   "source": [
    "# A tuple is also a collection of elements, but you can't change individual elements after creation\n",
    "# You will generally want to use lists instead of tuples.\n",
    "my_list = [1, 2, 3]\n",
    "my_tuple = (1, 2, 3)\n",
    "\n",
    "my_list[1] = 6\n",
    "print(my_list)\n",
    "my_tuple[1] = 4"
   ]
  },
  {
   "cell_type": "code",
   "execution_count": null,
   "metadata": {
    "collapsed": true
   },
   "outputs": [],
   "source": []
  },
  {
   "cell_type": "markdown",
   "metadata": {},
   "source": [
    "# Idea\n",
    "\n",
    "Incorporate some string methods earlier in the session!\n",
    "\n",
    "Make sure to highlight how Python's syntax is sensitive to indentation"
   ]
  },
  {
   "cell_type": "markdown",
   "metadata": {},
   "source": [
    "# Let's build a geocoder!\n",
    "\n",
    "Now that we've covered the basics of programming in Python, we're going to jump into a more complex, real-world example. Step by step, we will assemble a program that will:\n",
    "1. read in a list of addresses from a CSV file,\n",
    "2. clean up the data formatting,\n",
    "3. geocode the addresses, and\n",
    "4. export the geocoded data to a new CSV.\n",
    "\n",
    "A script like this, which improves on ArcGIS's temperamental geocoding operations, is exactly the kind of tool that a planner might create as part of a typical workflow. In other words, we've reached the realm of the actually useful."
   ]
  },
  {
   "cell_type": "code",
   "execution_count": null,
   "metadata": {
    "collapsed": false
   },
   "outputs": [],
   "source": [
    "# We import the packages we need for this task. If you followed the instructions \n",
    "# on installing Python and making sure everything is set up correctly, these commands\n",
    "# should look familiar. If not, the syntax is simple:\n",
    "\n",
    "import pandas as pd\n",
    "from geopy.geocoders import GoogleV3"
   ]
  },
  {
   "cell_type": "code",
   "execution_count": null,
   "metadata": {
    "collapsed": false
   },
   "outputs": [],
   "source": [
    "# For our geocoding demo, we'll use a table of Oakland libraries I found\n",
    "# through Code for Oakland: http://codeforoakland.org/data-sets/\n",
    "\n",
    "# Reading a CSV into a pandas DataFrame is easy:\n",
    "libraries = pd.read_csv('LibraryBranches.csv')\n",
    "\n",
    "# Let's look at the table\n",
    "libraries"
   ]
  },
  {
   "cell_type": "code",
   "execution_count": null,
   "metadata": {
    "collapsed": false
   },
   "outputs": [],
   "source": [
    "# When you have a large DataFrame, it can be more convenient to see only the first few rows:\n",
    "libraries.head() # defaults to 5 rows, but you can specify the number of rows"
   ]
  },
  {
   "cell_type": "code",
   "execution_count": null,
   "metadata": {
    "collapsed": false
   },
   "outputs": [],
   "source": [
    "# Unlike Excel, you can't directly look at and modify cells in a table.\n",
    "# Instead, you access data by specifying its *location.* There are two basic forms\n",
    "# of location syntax, .loc[] and .iloc[] - note the square brackets, not parentheses.\n",
    "\n",
    "# .loc[x, y]: look up the data at the location with row index named x and column named y\n",
    "print(libraries.loc[0,'PHONE'])\n",
    "\n",
    "# .iloc[m, n]: look up the data in the mth row and nth column (first column == 0)\n",
    "print(libraries.iloc[2, 2])"
   ]
  },
  {
   "cell_type": "markdown",
   "metadata": {},
   "source": [
    "## Important concept: _objects_\n",
    "\n",
    "It is common in Python and other programming languages to store data in flexible relational structures known as **objects**. Objects have **attributes**: for example, a `Person` object might have `height` and `age` numeric attributes, plus a `name` string attribute.\n",
    "\n",
    "If an object has a function as an attribute, that function is called a **method** of the object. So our `Person` object can have a `get_older()` method that increases the Person's `height` attribute. (Note that like other, stand-alone functions, this method includes a set of parentheses.) In the cell above, `head()` is a method of the `libraries` object.\n",
    "\n",
    "An object's methods and other attributes are accessed via **dot notation**: if `drew` is a `Person` object, `drew.height` will return `drew`'s `height` attribute. `drew.get_older()` will increase `drew`'s `age`.\n",
    "\n",
    "We're not going to look at how to define our own objects (known also as *classes*) today, but it's a good skill to pick up, and tutorials are out there. https://jeffknupp.com/blog/2014/06/18/improve-your-python-python-classes-and-object-oriented-programming/\n",
    "\n",
    "Right now, we're about to interact with three useful objects that are already defined in the modules we've loaded: `DataFrame`, from `pandas`, and `Geocoder` and `Location` from `geopy.geocoders`. Let's see how we can combine some `DataFrame` attributes and methods to quickly modify our `libraries` object."
   ]
  },
  {
   "cell_type": "code",
   "execution_count": null,
   "metadata": {
    "collapsed": false
   },
   "outputs": [],
   "source": [
    "# These ALL-CAPS column names are irritating. Let's change them to lowercase:\n",
    "\n",
    "libraries.columns = libraries.columns.str.lower()\n",
    "libraries.head()\n",
    "\n",
    "# What happened here?\n",
    "# libraries.columns is an attribute of libraries (a pandas DataFrame object).\n",
    "# The columns object is itself an Index object, containing the names of each column.\n",
    "# libraries.columns.str allows us to access and modify each string in libraries.columns -\n",
    "# in this case, we use the lower() method to convert each string to lowercase.\n",
    "# So we are telling Python to overwrite libraries.columns (the set of column names)\n",
    "# with a version of libraries.columns converted to lowercase."
   ]
  },
  {
   "cell_type": "code",
   "execution_count": null,
   "metadata": {
    "collapsed": false
   },
   "outputs": [],
   "source": [
    "# Let's look at just one column\n",
    "\n",
    "libraries['name']\n",
    "\n",
    "# libraries.name (dot notation) is equivalent to libraries['name'] (bracket notation).\n",
    "# However, when you want to create a new column, you must use bracket notation."
   ]
  },
  {
   "cell_type": "code",
   "execution_count": null,
   "metadata": {
    "collapsed": false
   },
   "outputs": [],
   "source": [
    "# We need to clean up our data in preparation for geocoding.\n",
    "# There are some extra dashes in the address field, and the city and state aren't specified.\n",
    "# Pandas provides some powerful methods for quickly modifying many pieces of data:\n",
    "\n",
    "libraries['full_address'] = libraries.address.str.replace('- ', '') + ', Oakland, CA'\n",
    "libraries.head()\n",
    "\n",
    "# What happened here?\n",
    "# We looked at libraries.address (one column), used str to access that column's\n",
    "# contents as strings, then used the replace() string method to remove dashes.\n",
    "# Then we used the + operator to concatenate city and state to each address.\n",
    "# Finally, we used bracket notation to create a new full_address column to store\n",
    "# the results of this operation."
   ]
  },
  {
   "cell_type": "code",
   "execution_count": null,
   "metadata": {
    "collapsed": false
   },
   "outputs": [],
   "source": [
    "# Now that we've properly formatted our addresses, it's time to set up the Geocoder.\n",
    "\n",
    "g = GoogleV3()\n",
    "\n",
    "# g is a GoogleV3 Geocoder object. This object has multiple methods, or built-in functions. \n",
    "# We'll be using the geocode() method, which takes a street address and returns a lat/long pair\n",
    "# stored as a Location object. (Objects are just organized groups of data.)\n",
    "# There is also a reverse() method that takes a lat/long pair and returns a street address.\n",
    "# More info: https://geopy.readthedocs.org/en/1.11.0/#geopy.geocoders.GoogleV3\n",
    "# and https://developers.google.com/maps/documentation/geocoding/intro\n",
    "# The Google Maps Geocoding API has a limit of 2500 addresses per 24-hour period."
   ]
  },
  {
   "cell_type": "code",
   "execution_count": null,
   "metadata": {
    "collapsed": false
   },
   "outputs": [],
   "source": [
    "# Let's see the Geocoder in action. \n",
    "home = g.geocode('1001 Chanin Brkley')\n",
    "home\n",
    "\n",
    "# Notice that the Google Maps Geocoding API is quite flexible - it was able\n",
    "# to identify Channing Way from \"Chanin\" and Berkeley, CA from \"Brkley\"!"
   ]
  },
  {
   "cell_type": "code",
   "execution_count": null,
   "metadata": {
    "collapsed": false
   },
   "outputs": [],
   "source": [
    "# So, when we pass an address string to the Geocoder's geocode() method, the Geocoder\n",
    "# looks up that address via the Google Maps Geocoding API and returns the result as a Location object.\n",
    "# Now we work our way through the various components of this Location object.\n",
    "print(home[0]) # matched address - a string\n",
    "print(home[1]) # lat/long pair - a tuple\n",
    "print(home[1][0]) # latitude - a float\n",
    "print(home[1][1]) # longitude - a float"
   ]
  },
  {
   "cell_type": "code",
   "execution_count": null,
   "metadata": {
    "collapsed": true
   },
   "outputs": [],
   "source": [
    "# OK! So we know how to get what we need out of the Location object that the Geocoder returns.\n",
    "# We're now going to use a powerful feature of pandas - \"apply,\" which applies a function to each\n",
    "# item in a Series. \n",
    "\n",
    "# First, we need to define a function that takes an address string as a parameter,\n",
    "# passes it to our Geocoder object, and returns the lat/long pair.\n",
    "\n",
    "def getLatLong(address):\n",
    "    result = g.geocode(address)\n",
    "    return result[1]"
   ]
  },
  {
   "cell_type": "code",
   "execution_count": null,
   "metadata": {
    "collapsed": false
   },
   "outputs": [],
   "source": [
    "# Now we can *apply* the function we defined to each address in the full_address column.\n",
    "# As before, we use bracket notation to store the results of the apply operation into\n",
    "# a new latlong column.\n",
    "\n",
    "libraries['latlong'] = libraries.full_address.apply(getLatLong)\n",
    "libraries.head()"
   ]
  },
  {
   "cell_type": "code",
   "execution_count": null,
   "metadata": {
    "collapsed": false
   },
   "outputs": [],
   "source": [
    "# It is a good idea to keep the lat/long pair itself. This is a common format\n",
    "# that is used in web mapping (e.g. Leaflet). However, for some applications\n",
    "# (e.g. ArcGIS, CartoDB), we will need separate latitude and longitude fields.\n",
    "# Let's create those now, using a for loop.\n",
    "\n",
    "for i in libraries.index:\n",
    "    libraries.loc[i, 'latitude'] = libraries.loc[i, 'latlong'][0]\n",
    "    libraries.loc[i, 'longitude'] = libraries.loc[i, 'latlong'][1]\n",
    "\n",
    "libraries.head()\n",
    "\n",
    "# What happened here?\n",
    "# libraries.index, an attribute of libraries, stores the set of index values associated with\n",
    "# each row in the libraries DataFrame. 'for i in libraries.index' tells the variable i to\n",
    "# iterate over each value in libraries.index, allowing us to access and modify each row in libraries.\n",
    "# So, for each row in libraries, this code assigns the 0th element of the tuple in latlong\n",
    "# to a new latitude column, and the 1st element of the latlong tuple to a new longitude column.\n",
    "# Note, as before, how we use indentation to indicate which statements are part of the for loop."
   ]
  },
  {
   "cell_type": "code",
   "execution_count": null,
   "metadata": {
    "collapsed": false
   },
   "outputs": [],
   "source": [
    "# Almost there now. Before we export our data to a CSV file, let's remove\n",
    "# some columns we don't need.\n",
    "\n",
    "libraries.drop(['objectid', 'address'], inplace = True, axis = 1)\n",
    "libraries.head()\n",
    "\n",
    "# What happened here?\n",
    "# The drop() method removes data from a DataFrame. Its first argument is a list\n",
    "# of entries to remove. The inplace keyword specifies that the drop operation\n",
    "# should modify libraries directly. (By default, inplace = False - you can always\n",
    "# use libraries_new = libraries.drop(xyz, inplace = False) to save the modified\n",
    "# DataFrame to libraries_new.) Axis is either 0 for rows or 1 for columns.\n",
    "# In this case, we set it = 1 to drop columns, not rows."
   ]
  },
  {
   "cell_type": "code",
   "execution_count": null,
   "metadata": {
    "collapsed": true
   },
   "outputs": [],
   "source": [
    "# Time to save our data to disk. pandas DataFrames have a very convenient\n",
    "# to_csv() method. The index = False argument tells pandas not to write the index\n",
    "# as its own column, again eliminating unnecessary data.\n",
    "\n",
    "libraries.to_csv('LibraryBranchesGeocoded.csv', index = False)"
   ]
  },
  {
   "cell_type": "code",
   "execution_count": null,
   "metadata": {
    "collapsed": false
   },
   "outputs": [],
   "source": [
    "# Finally, let's collect all the pieces of the puzzle into a single cell.\n",
    "# I have added some try/except syntax to handle situations in which an address string\n",
    "# is totally invalid. Google will try hard to match each address, but if it can't, \n",
    "# the Geocoder will return None instead of a Location object.\n",
    "# I also added three print() statements to inform the user about what the program\n",
    "# has done. See if you can figure out how each statement uses attributes and methods!\n",
    "\n",
    "# import the needed packages\n",
    "import pandas as pd\n",
    "from geopy.geocoders import GoogleV3\n",
    "\n",
    "# read the CSV into a pandas DataFrame\n",
    "libraries = pd.read_csv('LibraryBranches.csv')\n",
    "print('Read', len(libraries), 'records')\n",
    "\n",
    "# clean up the column names and address field\n",
    "libraries.columns = libraries.columns.str.lower()\n",
    "libraries['full_address'] = libraries.address.str.replace('- ', '') + ', Oakland, CA'\n",
    "\n",
    "# in case you want to see how the program handles junk data, uncomment the next line\n",
    "# libraries.loc[0, 'full_address'] = 'dkjfbga;knga;sd'\n",
    "\n",
    "# create a geopy Geocoder\n",
    "g = GoogleV3()\n",
    "\n",
    "# define helper function\n",
    "def getLatLong(address):\n",
    "    result = g.geocode(address)\n",
    "    try:\n",
    "        return result[1]\n",
    "    except:\n",
    "        return None\n",
    "\n",
    "# geocode the addresses\n",
    "libraries['latlong'] = libraries.full_address.apply(getLatLong)\n",
    "print('Geocoded', sum(libraries.latlong.notnull()), 'addresses')\n",
    "\n",
    "# extract latitude and longitude\n",
    "for i in libraries.index:\n",
    "    try:\n",
    "        libraries.loc[i, 'latitude'] = libraries.loc[i, 'latlong'][0]\n",
    "        libraries.loc[i, 'longitude'] = libraries.loc[i, 'latlong'][1]\n",
    "    except:\n",
    "        pass\n",
    "\n",
    "# drop unnecessary columns\n",
    "libraries.drop(['objectid', 'address'], inplace = True, axis = 1)\n",
    "\n",
    "# export the DataFrame to a new CSV file\n",
    "libraries.to_csv('LibraryBranchesGeocoded.csv', index = False)\n",
    "print('Exported', len(libraries), 'records')\n",
    "\n",
    "# Not bad for 25 lines of code."
   ]
  }
 ],
 "metadata": {
  "kernelspec": {
   "display_name": "Python 3",
   "language": "python",
   "name": "python3"
  },
  "language_info": {
   "codemirror_mode": {
    "name": "ipython",
    "version": 3
   },
   "file_extension": ".py",
   "mimetype": "text/x-python",
   "name": "python",
   "nbconvert_exporter": "python",
   "pygments_lexer": "ipython3",
   "version": "3.5.1"
  }
 },
 "nbformat": 4,
 "nbformat_minor": 0
}
